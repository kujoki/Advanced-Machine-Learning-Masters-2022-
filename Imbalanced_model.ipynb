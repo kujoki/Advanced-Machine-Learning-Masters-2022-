{
  "nbformat": 4,
  "nbformat_minor": 0,
  "metadata": {
    "colab": {
      "name": "Imbalanced_model.ipynb",
      "provenance": [],
      "authorship_tag": "ABX9TyPWjFWRxBia85BhuhpyFTMh",
      "include_colab_link": true
    },
    "kernelspec": {
      "name": "python3",
      "display_name": "Python 3"
    },
    "language_info": {
      "name": "python"
    }
  },
  "cells": [
    {
      "cell_type": "markdown",
      "metadata": {
        "id": "view-in-github",
        "colab_type": "text"
      },
      "source": [
        "<a href=\"https://colab.research.google.com/github/kujoki/Advanced-Machine-Learning-Masters-2022-/blob/main/Imbalanced_model.ipynb\" target=\"_parent\"><img src=\"https://colab.research.google.com/assets/colab-badge.svg\" alt=\"Open In Colab\"/></a>"
      ]
    },
    {
      "cell_type": "code",
      "execution_count": 1,
      "metadata": {
        "id": "QkBQs-GgyP5N"
      },
      "outputs": [],
      "source": [
        "from collections import Counter\n",
        "from sklearn.datasets import make_classification\n",
        "from imblearn.over_sampling import RandomOverSampler "
      ]
    },
    {
      "cell_type": "code",
      "source": [
        "import numpy as np"
      ],
      "metadata": {
        "id": "DOPj2IyNnRRS"
      },
      "execution_count": 2,
      "outputs": []
    },
    {
      "cell_type": "code",
      "source": [
        "import pandas as pd"
      ],
      "metadata": {
        "id": "lzD4tx2HveEI"
      },
      "execution_count": 3,
      "outputs": []
    },
    {
      "cell_type": "code",
      "source": [
        "from imblearn.over_sampling import SMOTENC"
      ],
      "metadata": {
        "id": "96_qdtNpzqbL"
      },
      "execution_count": 4,
      "outputs": []
    },
    {
      "cell_type": "code",
      "source": [
        "X, y = make_classification(n_classes=2, class_sep=2,\n",
        "weights=[0.1, 0.9], n_informative=3, n_redundant=1, flip_y=0,\n",
        "n_features=20, n_clusters_per_class=1, n_samples=1000, random_state=10)"
      ],
      "metadata": {
        "id": "F5VxjE0qyU1E"
      },
      "execution_count": 56,
      "outputs": []
    },
    {
      "cell_type": "code",
      "source": [
        "print('Original dataset shape %s' % Counter(y))"
      ],
      "metadata": {
        "colab": {
          "base_uri": "https://localhost:8080/"
        },
        "id": "EIdfvsXP3_3x",
        "outputId": "0c95b159-d56a-4c59-ee54-9222f1e643a2"
      },
      "execution_count": 57,
      "outputs": [
        {
          "output_type": "stream",
          "name": "stdout",
          "text": [
            "Original dataset shape Counter({1: 900, 0: 100})\n"
          ]
        }
      ]
    },
    {
      "cell_type": "code",
      "source": [
        "X"
      ],
      "metadata": {
        "colab": {
          "base_uri": "https://localhost:8080/"
        },
        "id": "lxxBfVIAyafz",
        "outputId": "fbe445c8-95cb-4384-9c54-91d74968b1ac"
      },
      "execution_count": 58,
      "outputs": [
        {
          "output_type": "execute_result",
          "data": {
            "text/plain": [
              "array([[ 0.60013068, -1.42766402, -0.8128431 , ..., -0.55302378,\n",
              "         0.14876985, -1.74795877],\n",
              "       [ 0.25364115, -1.45638734, -0.52259796, ...,  1.69409346,\n",
              "        -0.24969905,  0.4587598 ],\n",
              "       [ 0.18225579, -1.27960188,  0.6780773 , ..., -0.81115113,\n",
              "        -0.28733609, -1.8361891 ],\n",
              "       ...,\n",
              "       [-1.47024551,  1.44291998, -0.61025173, ..., -0.80856535,\n",
              "         0.92899574, -2.11510777],\n",
              "       [ 1.16080297,  1.07930132, -0.10917057, ..., -2.58494382,\n",
              "        -1.74326156, -0.89317882],\n",
              "       [-0.29874435, -1.48144343, -0.34051766, ..., -0.17772046,\n",
              "        -0.13834763, -0.81195185]])"
            ]
          },
          "metadata": {},
          "execution_count": 58
        }
      ]
    },
    {
      "cell_type": "code",
      "source": [
        "d = np.array([\"A\"] * 100 + [\"B\"] * 200 + [\"C\"] * 300 +  [\"D\"] * 400, dtype=object)"
      ],
      "metadata": {
        "id": "L5r6-eO7nL2e"
      },
      "execution_count": 59,
      "outputs": []
    },
    {
      "cell_type": "code",
      "source": [
        "d = d.reshape(1000,1)"
      ],
      "metadata": {
        "id": "xmSDb5Sws9YW"
      },
      "execution_count": 60,
      "outputs": []
    },
    {
      "cell_type": "code",
      "source": [
        "X.shape"
      ],
      "metadata": {
        "colab": {
          "base_uri": "https://localhost:8080/"
        },
        "id": "Te8bno91tAch",
        "outputId": "288d402c-debf-40b2-9555-bec17df5d831"
      },
      "execution_count": 61,
      "outputs": [
        {
          "output_type": "execute_result",
          "data": {
            "text/plain": [
              "(1000, 20)"
            ]
          },
          "metadata": {},
          "execution_count": 61
        }
      ]
    },
    {
      "cell_type": "code",
      "source": [
        "y = y.reshape(1000,1)"
      ],
      "metadata": {
        "id": "1gHsLD9Mybtp"
      },
      "execution_count": 62,
      "outputs": []
    },
    {
      "cell_type": "code",
      "source": [
        "X_all = np.append(X, d, axis=1)"
      ],
      "metadata": {
        "id": "3BjPsxUbs1i_"
      },
      "execution_count": 63,
      "outputs": []
    },
    {
      "cell_type": "code",
      "source": [
        "#X_all = np.append(X_all, y, axis=1)"
      ],
      "metadata": {
        "id": "MvJx_zy4ukZJ"
      },
      "execution_count": 27,
      "outputs": []
    },
    {
      "cell_type": "code",
      "source": [
        "X_all.shape"
      ],
      "metadata": {
        "colab": {
          "base_uri": "https://localhost:8080/"
        },
        "id": "QoXkJAQFvTVM",
        "outputId": "631eb587-f086-477d-a276-2b7447485b60"
      },
      "execution_count": 64,
      "outputs": [
        {
          "output_type": "execute_result",
          "data": {
            "text/plain": [
              "(1000, 21)"
            ]
          },
          "metadata": {},
          "execution_count": 64
        }
      ]
    },
    {
      "cell_type": "code",
      "source": [
        "last = list(range(0,21))"
      ],
      "metadata": {
        "id": "k26Yfht1vHw2"
      },
      "execution_count": 65,
      "outputs": []
    },
    {
      "cell_type": "code",
      "source": [
        "last"
      ],
      "metadata": {
        "colab": {
          "base_uri": "https://localhost:8080/"
        },
        "id": "lzXmao0uvL12",
        "outputId": "bba0be92-7e5c-4145-8b23-3e12b85fad91"
      },
      "execution_count": 66,
      "outputs": [
        {
          "output_type": "execute_result",
          "data": {
            "text/plain": [
              "[0, 1, 2, 3, 4, 5, 6, 7, 8, 9, 10, 11, 12, 13, 14, 15, 16, 17, 18, 19, 20]"
            ]
          },
          "metadata": {},
          "execution_count": 66
        }
      ]
    },
    {
      "cell_type": "code",
      "source": [
        "a = []\n",
        "for l in last:\n",
        "  l = 'Column № '+ str(l)\n",
        "  a.append(l)"
      ],
      "metadata": {
        "id": "56VH5Gfsw9ws"
      },
      "execution_count": 67,
      "outputs": []
    },
    {
      "cell_type": "code",
      "source": [
        "a"
      ],
      "metadata": {
        "colab": {
          "base_uri": "https://localhost:8080/"
        },
        "id": "Vk24q8cbvYXT",
        "outputId": "5388fda6-ca61-4822-902a-7577d6dcda45"
      },
      "execution_count": 68,
      "outputs": [
        {
          "output_type": "execute_result",
          "data": {
            "text/plain": [
              "['Column № 0',\n",
              " 'Column № 1',\n",
              " 'Column № 2',\n",
              " 'Column № 3',\n",
              " 'Column № 4',\n",
              " 'Column № 5',\n",
              " 'Column № 6',\n",
              " 'Column № 7',\n",
              " 'Column № 8',\n",
              " 'Column № 9',\n",
              " 'Column № 10',\n",
              " 'Column № 11',\n",
              " 'Column № 12',\n",
              " 'Column № 13',\n",
              " 'Column № 14',\n",
              " 'Column № 15',\n",
              " 'Column № 16',\n",
              " 'Column № 17',\n",
              " 'Column № 18',\n",
              " 'Column № 19',\n",
              " 'Column № 20']"
            ]
          },
          "metadata": {},
          "execution_count": 68
        }
      ]
    },
    {
      "cell_type": "code",
      "source": [
        "X_all_pd = pd.DataFrame(X_all, columns = a)"
      ],
      "metadata": {
        "id": "361-WFhXvAw4"
      },
      "execution_count": 69,
      "outputs": []
    },
    {
      "cell_type": "code",
      "source": [
        "X_all_pd.to_csv('X_all.csv')"
      ],
      "metadata": {
        "id": "ys3Uh6Dkuvzu"
      },
      "execution_count": 57,
      "outputs": []
    },
    {
      "cell_type": "code",
      "source": [
        "X_all_pd"
      ],
      "metadata": {
        "colab": {
          "base_uri": "https://localhost:8080/",
          "height": 505
        },
        "id": "w42wEm7dtSEJ",
        "outputId": "c53a5acf-3cec-48b1-e396-bb7658d962c4"
      },
      "execution_count": 70,
      "outputs": [
        {
          "output_type": "execute_result",
          "data": {
            "text/plain": [
              "    Column № 0 Column № 1 Column № 2 Column № 3 Column № 4 Column № 5  \\\n",
              "0     0.600131  -1.427664  -0.812843   0.186196  -0.446072   1.461538   \n",
              "1     0.253641  -1.456387  -0.522598   -1.20057  -0.595553   3.498593   \n",
              "2     0.182256  -1.279602   0.678077  -0.107072  -1.891533   2.979158   \n",
              "3    -0.313907  -2.714269  -0.461789   0.451429   0.299209   2.328047   \n",
              "4     -1.26287   0.119181  -1.234628   0.253147   1.551433     2.3537   \n",
              "..         ...        ...        ...        ...        ...        ...   \n",
              "995    2.46598  -0.116475  -1.367398   0.257924   2.022202   0.056557   \n",
              "996  -0.016326  -0.618306  -1.159263  -1.430355  -0.280692   2.124388   \n",
              "997  -1.470246    1.44292  -0.610252   2.232025   0.420092   3.069023   \n",
              "998   1.160803   1.079301  -0.109171  -0.277715  -0.553123    2.62221   \n",
              "999  -0.298744  -1.481443  -0.340518  -1.547213   1.460142    2.75033   \n",
              "\n",
              "    Column № 6 Column № 7 Column № 8 Column № 9  ... Column № 11 Column № 12  \\\n",
              "0    -0.207926  -0.121374  -0.064468  -1.331016  ...    -0.13945    0.030954   \n",
              "1     0.447354   0.752679  -0.433422   1.552543  ...   -0.753243    0.655625   \n",
              "2     3.776249   0.766967  -1.461127  -0.505163  ...    0.361457    0.535316   \n",
              "3     4.721086  -1.460665  -1.075703   0.303755  ...   -0.850576   -2.456657   \n",
              "4     3.664477  -0.633148  -1.769543    -0.1648  ...    1.080204    -0.76597   \n",
              "..         ...        ...        ...        ...  ...         ...         ...   \n",
              "995  -0.859966   0.203001   -0.25093   0.248399  ...   -1.204348   -0.179539   \n",
              "996   1.695182  -0.871617  -0.332513  -0.273864  ...   -0.201208    2.311548   \n",
              "997   4.577711  -2.402991   2.227258   1.552156  ...    0.494304      0.7064   \n",
              "998    1.81451  -1.071314   0.445164   1.101574  ...    0.629303    0.324765   \n",
              "999   1.491944  -0.501494   1.389851   2.153687  ...   -0.055976   -1.024055   \n",
              "\n",
              "    Column № 13 Column № 14 Column № 15 Column № 16 Column № 17 Column № 18  \\\n",
              "0     -0.517951   -0.429622   -0.450095    2.303853   -0.553024     0.14877   \n",
              "1      0.612429   -1.190286    0.197738    1.001912    1.694093   -0.249699   \n",
              "2     -1.117117    0.500309   -0.062337   -1.664217   -0.811151   -0.287336   \n",
              "3      -0.53351   -1.476944    0.430563   -1.735455   -2.002849    1.215284   \n",
              "4     -0.633663   -2.961579    1.494173   -2.712421   -0.617613   -1.445949   \n",
              "..          ...         ...         ...         ...         ...         ...   \n",
              "995    1.718929    2.785293      0.0084   -0.635932    0.235752    1.236801   \n",
              "996    1.101763    1.419457      0.5127   -1.867728   -0.031862   -0.343076   \n",
              "997    2.081467   -0.293248   -0.659518   -0.739311   -0.808565    0.928996   \n",
              "998    0.120767   -0.390811    1.075743   -0.391347   -2.584944   -1.743262   \n",
              "999    0.978617   -0.930534   -1.069214    1.176036    -0.17772   -0.138348   \n",
              "\n",
              "    Column № 19 Column № 20  \n",
              "0     -1.747959           A  \n",
              "1       0.45876           A  \n",
              "2     -1.836189           A  \n",
              "3     -2.457965           A  \n",
              "4     -2.183687           A  \n",
              "..          ...         ...  \n",
              "995   -1.414625           D  \n",
              "996   -1.174288           D  \n",
              "997   -2.115108           D  \n",
              "998   -0.893179           D  \n",
              "999   -0.811952           D  \n",
              "\n",
              "[1000 rows x 21 columns]"
            ],
            "text/html": [
              "\n",
              "  <div id=\"df-138a2fc4-75d7-475e-84d4-ac7f42d3fd1d\">\n",
              "    <div class=\"colab-df-container\">\n",
              "      <div>\n",
              "<style scoped>\n",
              "    .dataframe tbody tr th:only-of-type {\n",
              "        vertical-align: middle;\n",
              "    }\n",
              "\n",
              "    .dataframe tbody tr th {\n",
              "        vertical-align: top;\n",
              "    }\n",
              "\n",
              "    .dataframe thead th {\n",
              "        text-align: right;\n",
              "    }\n",
              "</style>\n",
              "<table border=\"1\" class=\"dataframe\">\n",
              "  <thead>\n",
              "    <tr style=\"text-align: right;\">\n",
              "      <th></th>\n",
              "      <th>Column № 0</th>\n",
              "      <th>Column № 1</th>\n",
              "      <th>Column № 2</th>\n",
              "      <th>Column № 3</th>\n",
              "      <th>Column № 4</th>\n",
              "      <th>Column № 5</th>\n",
              "      <th>Column № 6</th>\n",
              "      <th>Column № 7</th>\n",
              "      <th>Column № 8</th>\n",
              "      <th>Column № 9</th>\n",
              "      <th>...</th>\n",
              "      <th>Column № 11</th>\n",
              "      <th>Column № 12</th>\n",
              "      <th>Column № 13</th>\n",
              "      <th>Column № 14</th>\n",
              "      <th>Column № 15</th>\n",
              "      <th>Column № 16</th>\n",
              "      <th>Column № 17</th>\n",
              "      <th>Column № 18</th>\n",
              "      <th>Column № 19</th>\n",
              "      <th>Column № 20</th>\n",
              "    </tr>\n",
              "  </thead>\n",
              "  <tbody>\n",
              "    <tr>\n",
              "      <th>0</th>\n",
              "      <td>0.600131</td>\n",
              "      <td>-1.427664</td>\n",
              "      <td>-0.812843</td>\n",
              "      <td>0.186196</td>\n",
              "      <td>-0.446072</td>\n",
              "      <td>1.461538</td>\n",
              "      <td>-0.207926</td>\n",
              "      <td>-0.121374</td>\n",
              "      <td>-0.064468</td>\n",
              "      <td>-1.331016</td>\n",
              "      <td>...</td>\n",
              "      <td>-0.13945</td>\n",
              "      <td>0.030954</td>\n",
              "      <td>-0.517951</td>\n",
              "      <td>-0.429622</td>\n",
              "      <td>-0.450095</td>\n",
              "      <td>2.303853</td>\n",
              "      <td>-0.553024</td>\n",
              "      <td>0.14877</td>\n",
              "      <td>-1.747959</td>\n",
              "      <td>A</td>\n",
              "    </tr>\n",
              "    <tr>\n",
              "      <th>1</th>\n",
              "      <td>0.253641</td>\n",
              "      <td>-1.456387</td>\n",
              "      <td>-0.522598</td>\n",
              "      <td>-1.20057</td>\n",
              "      <td>-0.595553</td>\n",
              "      <td>3.498593</td>\n",
              "      <td>0.447354</td>\n",
              "      <td>0.752679</td>\n",
              "      <td>-0.433422</td>\n",
              "      <td>1.552543</td>\n",
              "      <td>...</td>\n",
              "      <td>-0.753243</td>\n",
              "      <td>0.655625</td>\n",
              "      <td>0.612429</td>\n",
              "      <td>-1.190286</td>\n",
              "      <td>0.197738</td>\n",
              "      <td>1.001912</td>\n",
              "      <td>1.694093</td>\n",
              "      <td>-0.249699</td>\n",
              "      <td>0.45876</td>\n",
              "      <td>A</td>\n",
              "    </tr>\n",
              "    <tr>\n",
              "      <th>2</th>\n",
              "      <td>0.182256</td>\n",
              "      <td>-1.279602</td>\n",
              "      <td>0.678077</td>\n",
              "      <td>-0.107072</td>\n",
              "      <td>-1.891533</td>\n",
              "      <td>2.979158</td>\n",
              "      <td>3.776249</td>\n",
              "      <td>0.766967</td>\n",
              "      <td>-1.461127</td>\n",
              "      <td>-0.505163</td>\n",
              "      <td>...</td>\n",
              "      <td>0.361457</td>\n",
              "      <td>0.535316</td>\n",
              "      <td>-1.117117</td>\n",
              "      <td>0.500309</td>\n",
              "      <td>-0.062337</td>\n",
              "      <td>-1.664217</td>\n",
              "      <td>-0.811151</td>\n",
              "      <td>-0.287336</td>\n",
              "      <td>-1.836189</td>\n",
              "      <td>A</td>\n",
              "    </tr>\n",
              "    <tr>\n",
              "      <th>3</th>\n",
              "      <td>-0.313907</td>\n",
              "      <td>-2.714269</td>\n",
              "      <td>-0.461789</td>\n",
              "      <td>0.451429</td>\n",
              "      <td>0.299209</td>\n",
              "      <td>2.328047</td>\n",
              "      <td>4.721086</td>\n",
              "      <td>-1.460665</td>\n",
              "      <td>-1.075703</td>\n",
              "      <td>0.303755</td>\n",
              "      <td>...</td>\n",
              "      <td>-0.850576</td>\n",
              "      <td>-2.456657</td>\n",
              "      <td>-0.53351</td>\n",
              "      <td>-1.476944</td>\n",
              "      <td>0.430563</td>\n",
              "      <td>-1.735455</td>\n",
              "      <td>-2.002849</td>\n",
              "      <td>1.215284</td>\n",
              "      <td>-2.457965</td>\n",
              "      <td>A</td>\n",
              "    </tr>\n",
              "    <tr>\n",
              "      <th>4</th>\n",
              "      <td>-1.26287</td>\n",
              "      <td>0.119181</td>\n",
              "      <td>-1.234628</td>\n",
              "      <td>0.253147</td>\n",
              "      <td>1.551433</td>\n",
              "      <td>2.3537</td>\n",
              "      <td>3.664477</td>\n",
              "      <td>-0.633148</td>\n",
              "      <td>-1.769543</td>\n",
              "      <td>-0.1648</td>\n",
              "      <td>...</td>\n",
              "      <td>1.080204</td>\n",
              "      <td>-0.76597</td>\n",
              "      <td>-0.633663</td>\n",
              "      <td>-2.961579</td>\n",
              "      <td>1.494173</td>\n",
              "      <td>-2.712421</td>\n",
              "      <td>-0.617613</td>\n",
              "      <td>-1.445949</td>\n",
              "      <td>-2.183687</td>\n",
              "      <td>A</td>\n",
              "    </tr>\n",
              "    <tr>\n",
              "      <th>...</th>\n",
              "      <td>...</td>\n",
              "      <td>...</td>\n",
              "      <td>...</td>\n",
              "      <td>...</td>\n",
              "      <td>...</td>\n",
              "      <td>...</td>\n",
              "      <td>...</td>\n",
              "      <td>...</td>\n",
              "      <td>...</td>\n",
              "      <td>...</td>\n",
              "      <td>...</td>\n",
              "      <td>...</td>\n",
              "      <td>...</td>\n",
              "      <td>...</td>\n",
              "      <td>...</td>\n",
              "      <td>...</td>\n",
              "      <td>...</td>\n",
              "      <td>...</td>\n",
              "      <td>...</td>\n",
              "      <td>...</td>\n",
              "      <td>...</td>\n",
              "    </tr>\n",
              "    <tr>\n",
              "      <th>995</th>\n",
              "      <td>2.46598</td>\n",
              "      <td>-0.116475</td>\n",
              "      <td>-1.367398</td>\n",
              "      <td>0.257924</td>\n",
              "      <td>2.022202</td>\n",
              "      <td>0.056557</td>\n",
              "      <td>-0.859966</td>\n",
              "      <td>0.203001</td>\n",
              "      <td>-0.25093</td>\n",
              "      <td>0.248399</td>\n",
              "      <td>...</td>\n",
              "      <td>-1.204348</td>\n",
              "      <td>-0.179539</td>\n",
              "      <td>1.718929</td>\n",
              "      <td>2.785293</td>\n",
              "      <td>0.0084</td>\n",
              "      <td>-0.635932</td>\n",
              "      <td>0.235752</td>\n",
              "      <td>1.236801</td>\n",
              "      <td>-1.414625</td>\n",
              "      <td>D</td>\n",
              "    </tr>\n",
              "    <tr>\n",
              "      <th>996</th>\n",
              "      <td>-0.016326</td>\n",
              "      <td>-0.618306</td>\n",
              "      <td>-1.159263</td>\n",
              "      <td>-1.430355</td>\n",
              "      <td>-0.280692</td>\n",
              "      <td>2.124388</td>\n",
              "      <td>1.695182</td>\n",
              "      <td>-0.871617</td>\n",
              "      <td>-0.332513</td>\n",
              "      <td>-0.273864</td>\n",
              "      <td>...</td>\n",
              "      <td>-0.201208</td>\n",
              "      <td>2.311548</td>\n",
              "      <td>1.101763</td>\n",
              "      <td>1.419457</td>\n",
              "      <td>0.5127</td>\n",
              "      <td>-1.867728</td>\n",
              "      <td>-0.031862</td>\n",
              "      <td>-0.343076</td>\n",
              "      <td>-1.174288</td>\n",
              "      <td>D</td>\n",
              "    </tr>\n",
              "    <tr>\n",
              "      <th>997</th>\n",
              "      <td>-1.470246</td>\n",
              "      <td>1.44292</td>\n",
              "      <td>-0.610252</td>\n",
              "      <td>2.232025</td>\n",
              "      <td>0.420092</td>\n",
              "      <td>3.069023</td>\n",
              "      <td>4.577711</td>\n",
              "      <td>-2.402991</td>\n",
              "      <td>2.227258</td>\n",
              "      <td>1.552156</td>\n",
              "      <td>...</td>\n",
              "      <td>0.494304</td>\n",
              "      <td>0.7064</td>\n",
              "      <td>2.081467</td>\n",
              "      <td>-0.293248</td>\n",
              "      <td>-0.659518</td>\n",
              "      <td>-0.739311</td>\n",
              "      <td>-0.808565</td>\n",
              "      <td>0.928996</td>\n",
              "      <td>-2.115108</td>\n",
              "      <td>D</td>\n",
              "    </tr>\n",
              "    <tr>\n",
              "      <th>998</th>\n",
              "      <td>1.160803</td>\n",
              "      <td>1.079301</td>\n",
              "      <td>-0.109171</td>\n",
              "      <td>-0.277715</td>\n",
              "      <td>-0.553123</td>\n",
              "      <td>2.62221</td>\n",
              "      <td>1.81451</td>\n",
              "      <td>-1.071314</td>\n",
              "      <td>0.445164</td>\n",
              "      <td>1.101574</td>\n",
              "      <td>...</td>\n",
              "      <td>0.629303</td>\n",
              "      <td>0.324765</td>\n",
              "      <td>0.120767</td>\n",
              "      <td>-0.390811</td>\n",
              "      <td>1.075743</td>\n",
              "      <td>-0.391347</td>\n",
              "      <td>-2.584944</td>\n",
              "      <td>-1.743262</td>\n",
              "      <td>-0.893179</td>\n",
              "      <td>D</td>\n",
              "    </tr>\n",
              "    <tr>\n",
              "      <th>999</th>\n",
              "      <td>-0.298744</td>\n",
              "      <td>-1.481443</td>\n",
              "      <td>-0.340518</td>\n",
              "      <td>-1.547213</td>\n",
              "      <td>1.460142</td>\n",
              "      <td>2.75033</td>\n",
              "      <td>1.491944</td>\n",
              "      <td>-0.501494</td>\n",
              "      <td>1.389851</td>\n",
              "      <td>2.153687</td>\n",
              "      <td>...</td>\n",
              "      <td>-0.055976</td>\n",
              "      <td>-1.024055</td>\n",
              "      <td>0.978617</td>\n",
              "      <td>-0.930534</td>\n",
              "      <td>-1.069214</td>\n",
              "      <td>1.176036</td>\n",
              "      <td>-0.17772</td>\n",
              "      <td>-0.138348</td>\n",
              "      <td>-0.811952</td>\n",
              "      <td>D</td>\n",
              "    </tr>\n",
              "  </tbody>\n",
              "</table>\n",
              "<p>1000 rows × 21 columns</p>\n",
              "</div>\n",
              "      <button class=\"colab-df-convert\" onclick=\"convertToInteractive('df-138a2fc4-75d7-475e-84d4-ac7f42d3fd1d')\"\n",
              "              title=\"Convert this dataframe to an interactive table.\"\n",
              "              style=\"display:none;\">\n",
              "        \n",
              "  <svg xmlns=\"http://www.w3.org/2000/svg\" height=\"24px\"viewBox=\"0 0 24 24\"\n",
              "       width=\"24px\">\n",
              "    <path d=\"M0 0h24v24H0V0z\" fill=\"none\"/>\n",
              "    <path d=\"M18.56 5.44l.94 2.06.94-2.06 2.06-.94-2.06-.94-.94-2.06-.94 2.06-2.06.94zm-11 1L8.5 8.5l.94-2.06 2.06-.94-2.06-.94L8.5 2.5l-.94 2.06-2.06.94zm10 10l.94 2.06.94-2.06 2.06-.94-2.06-.94-.94-2.06-.94 2.06-2.06.94z\"/><path d=\"M17.41 7.96l-1.37-1.37c-.4-.4-.92-.59-1.43-.59-.52 0-1.04.2-1.43.59L10.3 9.45l-7.72 7.72c-.78.78-.78 2.05 0 2.83L4 21.41c.39.39.9.59 1.41.59.51 0 1.02-.2 1.41-.59l7.78-7.78 2.81-2.81c.8-.78.8-2.07 0-2.86zM5.41 20L4 18.59l7.72-7.72 1.47 1.35L5.41 20z\"/>\n",
              "  </svg>\n",
              "      </button>\n",
              "      \n",
              "  <style>\n",
              "    .colab-df-container {\n",
              "      display:flex;\n",
              "      flex-wrap:wrap;\n",
              "      gap: 12px;\n",
              "    }\n",
              "\n",
              "    .colab-df-convert {\n",
              "      background-color: #E8F0FE;\n",
              "      border: none;\n",
              "      border-radius: 50%;\n",
              "      cursor: pointer;\n",
              "      display: none;\n",
              "      fill: #1967D2;\n",
              "      height: 32px;\n",
              "      padding: 0 0 0 0;\n",
              "      width: 32px;\n",
              "    }\n",
              "\n",
              "    .colab-df-convert:hover {\n",
              "      background-color: #E2EBFA;\n",
              "      box-shadow: 0px 1px 2px rgba(60, 64, 67, 0.3), 0px 1px 3px 1px rgba(60, 64, 67, 0.15);\n",
              "      fill: #174EA6;\n",
              "    }\n",
              "\n",
              "    [theme=dark] .colab-df-convert {\n",
              "      background-color: #3B4455;\n",
              "      fill: #D2E3FC;\n",
              "    }\n",
              "\n",
              "    [theme=dark] .colab-df-convert:hover {\n",
              "      background-color: #434B5C;\n",
              "      box-shadow: 0px 1px 3px 1px rgba(0, 0, 0, 0.15);\n",
              "      filter: drop-shadow(0px 1px 2px rgba(0, 0, 0, 0.3));\n",
              "      fill: #FFFFFF;\n",
              "    }\n",
              "  </style>\n",
              "\n",
              "      <script>\n",
              "        const buttonEl =\n",
              "          document.querySelector('#df-138a2fc4-75d7-475e-84d4-ac7f42d3fd1d button.colab-df-convert');\n",
              "        buttonEl.style.display =\n",
              "          google.colab.kernel.accessAllowed ? 'block' : 'none';\n",
              "\n",
              "        async function convertToInteractive(key) {\n",
              "          const element = document.querySelector('#df-138a2fc4-75d7-475e-84d4-ac7f42d3fd1d');\n",
              "          const dataTable =\n",
              "            await google.colab.kernel.invokeFunction('convertToInteractive',\n",
              "                                                     [key], {});\n",
              "          if (!dataTable) return;\n",
              "\n",
              "          const docLinkHtml = 'Like what you see? Visit the ' +\n",
              "            '<a target=\"_blank\" href=https://colab.research.google.com/notebooks/data_table.ipynb>data table notebook</a>'\n",
              "            + ' to learn more about interactive tables.';\n",
              "          element.innerHTML = '';\n",
              "          dataTable['output_type'] = 'display_data';\n",
              "          await google.colab.output.renderOutput(dataTable, element);\n",
              "          const docLink = document.createElement('div');\n",
              "          docLink.innerHTML = docLinkHtml;\n",
              "          element.appendChild(docLink);\n",
              "        }\n",
              "      </script>\n",
              "    </div>\n",
              "  </div>\n",
              "  "
            ]
          },
          "metadata": {},
          "execution_count": 70
        }
      ]
    },
    {
      "cell_type": "markdown",
      "source": [
        "SMOTE"
      ],
      "metadata": {
        "id": "YzMtRIQRwVJS"
      }
    },
    {
      "cell_type": "code",
      "source": [
        "from imblearn.over_sampling import SMOTE "
      ],
      "metadata": {
        "id": "c1f7Vn_kwXn8"
      },
      "execution_count": 19,
      "outputs": []
    },
    {
      "cell_type": "code",
      "source": [
        "X = X_all_pd.drop(columns = ['Column № 20'])"
      ],
      "metadata": {
        "id": "SMS7H5VQwc14"
      },
      "execution_count": 20,
      "outputs": []
    },
    {
      "cell_type": "code",
      "source": [
        "sm = SMOTE(random_state=42)"
      ],
      "metadata": {
        "id": "F3Nk-Otrwc4N"
      },
      "execution_count": 21,
      "outputs": []
    },
    {
      "cell_type": "code",
      "source": [
        "X_res, y_res = sm.fit_resample(X, y)"
      ],
      "metadata": {
        "id": "PEBCiUfjwc6b"
      },
      "execution_count": 22,
      "outputs": []
    },
    {
      "cell_type": "code",
      "source": [
        "print('Resampled dataset shape %s' % Counter(y_res))"
      ],
      "metadata": {
        "colab": {
          "base_uri": "https://localhost:8080/"
        },
        "id": "Nl3gw_Gzwc-i",
        "outputId": "fd23ea72-335b-4d4a-84ab-1306c6708e85"
      },
      "execution_count": 23,
      "outputs": [
        {
          "output_type": "stream",
          "name": "stdout",
          "text": [
            "Resampled dataset shape Counter({0: 900, 1: 900})\n"
          ]
        }
      ]
    },
    {
      "cell_type": "markdown",
      "source": [
        "SMOTENC"
      ],
      "metadata": {
        "id": "a64OaROZxAqd"
      }
    },
    {
      "cell_type": "code",
      "source": [
        "from imblearn.over_sampling import SMOTENC"
      ],
      "metadata": {
        "id": "ZMHtwzglw8Au"
      },
      "execution_count": 24,
      "outputs": []
    },
    {
      "cell_type": "code",
      "source": [
        "ros = SMOTENC(random_state=42, categorical_features=[20])"
      ],
      "metadata": {
        "id": "Pp1gCBF0xCa8"
      },
      "execution_count": 25,
      "outputs": []
    },
    {
      "cell_type": "code",
      "source": [
        "X_res, y_res = ros.fit_resample(X_all_pd, y)"
      ],
      "metadata": {
        "id": "qDWXN3ssxCd3"
      },
      "execution_count": 26,
      "outputs": []
    },
    {
      "cell_type": "code",
      "source": [
        "print('Resampled dataset shape %s' % Counter(y_res))"
      ],
      "metadata": {
        "colab": {
          "base_uri": "https://localhost:8080/"
        },
        "id": "3HpxHIG8xChI",
        "outputId": "77c6cb4c-c286-4d60-fb74-ed443987def6"
      },
      "execution_count": 27,
      "outputs": [
        {
          "output_type": "stream",
          "name": "stdout",
          "text": [
            "Resampled dataset shape Counter({0: 900, 1: 900})\n"
          ]
        }
      ]
    },
    {
      "cell_type": "markdown",
      "source": [
        "ADASYN"
      ],
      "metadata": {
        "id": "nDt1RRCSxRFh"
      }
    },
    {
      "cell_type": "code",
      "source": [
        "from imblearn.over_sampling import ADASYN"
      ],
      "metadata": {
        "id": "sN72qPrbxCj9"
      },
      "execution_count": 28,
      "outputs": []
    },
    {
      "cell_type": "code",
      "source": [
        "ada = ADASYN(random_state=42)\n",
        "X_res, y_res = ada.fit_resample(X, y)\n",
        "print('Resampled dataset shape %s' % Counter(y_res))"
      ],
      "metadata": {
        "colab": {
          "base_uri": "https://localhost:8080/"
        },
        "id": "CV1KAaRmxZVa",
        "outputId": "b3ebbc6d-4676-4df7-d689-8a5df1491bbc"
      },
      "execution_count": 31,
      "outputs": [
        {
          "output_type": "stream",
          "name": "stdout",
          "text": [
            "Resampled dataset shape Counter({0: 904, 1: 900})\n"
          ]
        }
      ]
    },
    {
      "cell_type": "markdown",
      "source": [
        "BorderlineSMOTE"
      ],
      "metadata": {
        "id": "Yr5jx7Zkx4ai"
      }
    },
    {
      "cell_type": "code",
      "source": [
        "from imblearn.over_sampling import BorderlineSMOTE"
      ],
      "metadata": {
        "id": "D7VmTXcXxZYo"
      },
      "execution_count": 32,
      "outputs": []
    },
    {
      "cell_type": "code",
      "source": [
        "sm = BorderlineSMOTE(random_state=42)\n",
        "X_res, y_res = sm.fit_resample(X, y)\n",
        "print('Resampled dataset shape %s' % Counter(y_res))"
      ],
      "metadata": {
        "colab": {
          "base_uri": "https://localhost:8080/"
        },
        "id": "tN1MfSIixZbr",
        "outputId": "9cd03b21-bcf1-4772-fc52-8fe8235a4cb8"
      },
      "execution_count": 33,
      "outputs": [
        {
          "output_type": "stream",
          "name": "stdout",
          "text": [
            "Resampled dataset shape Counter({0: 900, 1: 900})\n"
          ]
        }
      ]
    },
    {
      "cell_type": "markdown",
      "source": [
        "SMOTEN"
      ],
      "metadata": {
        "id": "bnfj4dEUyEZG"
      }
    },
    {
      "cell_type": "code",
      "source": [
        ""
      ],
      "metadata": {
        "id": "068zIwt1x9Dr"
      },
      "execution_count": null,
      "outputs": []
    },
    {
      "cell_type": "code",
      "source": [
        ""
      ],
      "metadata": {
        "id": "LzMHtLmNx9Mc"
      },
      "execution_count": null,
      "outputs": []
    },
    {
      "cell_type": "markdown",
      "source": [
        "SVMSMOTE"
      ],
      "metadata": {
        "id": "CZW1nl4HyKws"
      }
    },
    {
      "cell_type": "code",
      "source": [
        "from imblearn.over_sampling import SVMSMOTE"
      ],
      "metadata": {
        "id": "wMTahk42ye9b"
      },
      "execution_count": 34,
      "outputs": []
    },
    {
      "cell_type": "code",
      "source": [
        "sm = SVMSMOTE(random_state=42)\n",
        "X_res, y_res = sm.fit_resample(X, y)\n",
        "print('Resampled dataset shape %s' % Counter(y_res))"
      ],
      "metadata": {
        "colab": {
          "base_uri": "https://localhost:8080/"
        },
        "id": "wF13szENyfI2",
        "outputId": "75f2a9e5-38ea-435c-ba75-fd9dbc577c4c"
      },
      "execution_count": 37,
      "outputs": [
        {
          "output_type": "stream",
          "name": "stdout",
          "text": [
            "Resampled dataset shape Counter({0: 900, 1: 900})\n"
          ]
        }
      ]
    },
    {
      "cell_type": "markdown",
      "source": [
        "ClusterCentroids"
      ],
      "metadata": {
        "id": "KcsmoIMuy3Xa"
      }
    },
    {
      "cell_type": "code",
      "source": [
        "from imblearn.under_sampling import ClusterCentroids "
      ],
      "metadata": {
        "id": "3lLjyme_yvSX"
      },
      "execution_count": 38,
      "outputs": []
    },
    {
      "cell_type": "code",
      "source": [
        "cc = ClusterCentroids(random_state=42)\n",
        "X_res, y_res = cc.fit_resample(X, y)\n",
        "print('Resampled dataset shape %s' % Counter(y_res))"
      ],
      "metadata": {
        "colab": {
          "base_uri": "https://localhost:8080/"
        },
        "id": "eyxHJ0KozB-T",
        "outputId": "8107e226-6cad-43fa-c71e-a5ce41f2bc4e"
      },
      "execution_count": 39,
      "outputs": [
        {
          "output_type": "stream",
          "name": "stdout",
          "text": [
            "Resampled dataset shape Counter({0: 100, 1: 100})\n"
          ]
        }
      ]
    },
    {
      "cell_type": "markdown",
      "source": [
        "RandomUnderSampler"
      ],
      "metadata": {
        "id": "F5DoFCwrzHly"
      }
    },
    {
      "cell_type": "code",
      "source": [
        "from imblearn.under_sampling import RandomUnderSampler "
      ],
      "metadata": {
        "id": "SSgXPNoqzOGn"
      },
      "execution_count": 40,
      "outputs": []
    },
    {
      "cell_type": "code",
      "source": [
        "rus = RandomUnderSampler(random_state=42)\n",
        "X_res, y_res = rus.fit_resample(X, y)\n",
        "print('Resampled dataset shape %s' % Counter(y_res))"
      ],
      "metadata": {
        "colab": {
          "base_uri": "https://localhost:8080/"
        },
        "id": "5uhqbu_ozRV-",
        "outputId": "77b4dae5-a963-4bc2-9e28-ef232edcd80b"
      },
      "execution_count": 41,
      "outputs": [
        {
          "output_type": "stream",
          "name": "stdout",
          "text": [
            "Resampled dataset shape Counter({0: 100, 1: 100})\n"
          ]
        }
      ]
    },
    {
      "cell_type": "markdown",
      "source": [
        "NearMiss"
      ],
      "metadata": {
        "id": "vYoEQL3KzvK7"
      }
    },
    {
      "cell_type": "code",
      "source": [
        "from imblearn.under_sampling import NearMiss "
      ],
      "metadata": {
        "id": "JP2xyE5gzRgg"
      },
      "execution_count": 42,
      "outputs": []
    },
    {
      "cell_type": "code",
      "source": [
        "nm = NearMiss()\n",
        "X_res, y_res = nm.fit_resample(X, y)\n",
        "print('Resampled dataset shape %s' % Counter(y_res))"
      ],
      "metadata": {
        "colab": {
          "base_uri": "https://localhost:8080/"
        },
        "id": "0tq4U7pE0FZ9",
        "outputId": "af1b7935-73b8-44bb-e87d-b5f849b413a3"
      },
      "execution_count": 43,
      "outputs": [
        {
          "output_type": "stream",
          "name": "stdout",
          "text": [
            "Resampled dataset shape Counter({0: 100, 1: 100})\n"
          ]
        }
      ]
    },
    {
      "cell_type": "markdown",
      "source": [
        "EditedNearestNeighbours"
      ],
      "metadata": {
        "id": "lsRy7Gi40LFj"
      }
    },
    {
      "cell_type": "code",
      "source": [
        "from imblearn.under_sampling import EditedNearestNeighbours"
      ],
      "metadata": {
        "id": "gR5adhK-0Fl3"
      },
      "execution_count": 44,
      "outputs": []
    },
    {
      "cell_type": "code",
      "source": [
        "enn = EditedNearestNeighbours()\n",
        "X_res, y_res = enn.fit_resample(X, y)\n",
        "print('Resampled dataset shape %s' % Counter(y_res))"
      ],
      "metadata": {
        "colab": {
          "base_uri": "https://localhost:8080/"
        },
        "id": "EOUvQY3Y0F1O",
        "outputId": "efe3d475-895e-4737-a7fc-a176f5e95bb7"
      },
      "execution_count": 45,
      "outputs": [
        {
          "output_type": "stream",
          "name": "stdout",
          "text": [
            "Resampled dataset shape Counter({1: 887, 0: 100})\n"
          ]
        }
      ]
    },
    {
      "cell_type": "markdown",
      "source": [
        "RepeatedEditedNearestNeighbours"
      ],
      "metadata": {
        "id": "578SzI2f0pkf"
      }
    },
    {
      "cell_type": "code",
      "source": [
        "from imblearn.under_sampling import RepeatedEditedNearestNeighbours # doctest : +NORMALIZE_WHITESPACE\n"
      ],
      "metadata": {
        "id": "Zde00C5u08WP"
      },
      "execution_count": 46,
      "outputs": []
    },
    {
      "cell_type": "code",
      "source": [
        "renn = RepeatedEditedNearestNeighbours()\n",
        "X_res, y_res = renn.fit_resample(X, y)\n",
        "print('Resampled dataset shape %s' % Counter(y_res))"
      ],
      "metadata": {
        "colab": {
          "base_uri": "https://localhost:8080/"
        },
        "id": "-N7L94ZY08uF",
        "outputId": "e6de5907-ab73-49a7-9baa-7ef260b5aa11"
      },
      "execution_count": 47,
      "outputs": [
        {
          "output_type": "stream",
          "name": "stdout",
          "text": [
            "Resampled dataset shape Counter({1: 887, 0: 100})\n"
          ]
        }
      ]
    },
    {
      "cell_type": "markdown",
      "source": [
        "AllKNN"
      ],
      "metadata": {
        "id": "-EfYC1rl1HrY"
      }
    },
    {
      "cell_type": "code",
      "source": [
        "from imblearn.under_sampling import AllKNN"
      ],
      "metadata": {
        "id": "dObOZRfV2OMB"
      },
      "execution_count": 48,
      "outputs": []
    },
    {
      "cell_type": "code",
      "source": [
        "allknn = AllKNN()\n",
        "X_res, y_res = allknn.fit_resample(X, y)\n",
        "print('Resampled dataset shape %s' % Counter(y_res))"
      ],
      "metadata": {
        "colab": {
          "base_uri": "https://localhost:8080/"
        },
        "id": "tmXByfbG2ObM",
        "outputId": "4f6bd8ae-9715-4642-a134-89508dabde05"
      },
      "execution_count": 49,
      "outputs": [
        {
          "output_type": "stream",
          "name": "stdout",
          "text": [
            "Resampled dataset shape Counter({1: 887, 0: 100})\n"
          ]
        }
      ]
    },
    {
      "cell_type": "markdown",
      "source": [
        "CondensedNearestNeighbour"
      ],
      "metadata": {
        "id": "eMzdJTfF2ZJO"
      }
    },
    {
      "cell_type": "code",
      "source": [
        "from imblearn.under_sampling import CondensedNearestNeighbour "
      ],
      "metadata": {
        "id": "_h2NCHb62hB7"
      },
      "execution_count": 50,
      "outputs": []
    },
    {
      "cell_type": "code",
      "source": [
        "cnn = CondensedNearestNeighbour(random_state=42) \n",
        "X_res, y_res = cnn.fit_resample(X, y) \n",
        "print('Resampled dataset shape %s' % Counter(y_res))"
      ],
      "metadata": {
        "colab": {
          "base_uri": "https://localhost:8080/"
        },
        "id": "I693uLTw2hOi",
        "outputId": "8f506ad6-ab4a-431e-9356-bd6309fc4b97"
      },
      "execution_count": 51,
      "outputs": [
        {
          "output_type": "stream",
          "name": "stdout",
          "text": [
            "Resampled dataset shape Counter({0: 100, 1: 44})\n"
          ]
        }
      ]
    },
    {
      "cell_type": "markdown",
      "source": [
        "OneSidedSelection"
      ],
      "metadata": {
        "id": "Gd4IviYh287w"
      }
    },
    {
      "cell_type": "code",
      "source": [
        "from imblearn.under_sampling import OneSidedSelection "
      ],
      "metadata": {
        "id": "TFdWIkxZ3WfQ"
      },
      "execution_count": 52,
      "outputs": []
    },
    {
      "cell_type": "code",
      "source": [
        "oss = OneSidedSelection(random_state=42)\n",
        "X_res, y_res = oss.fit_resample(X, y)\n",
        "print('Resampled dataset shape %s' % Counter(y_res))"
      ],
      "metadata": {
        "colab": {
          "base_uri": "https://localhost:8080/"
        },
        "id": "7qs8niej3W0O",
        "outputId": "f4b7b9d1-68d7-46fb-e35a-f721eec93c86"
      },
      "execution_count": 53,
      "outputs": [
        {
          "output_type": "stream",
          "name": "stdout",
          "text": [
            "Resampled dataset shape Counter({1: 496, 0: 100})\n"
          ]
        }
      ]
    },
    {
      "cell_type": "markdown",
      "source": [
        "NeighbourhoodCleaningRule"
      ],
      "metadata": {
        "id": "N0081ZJY4Lkz"
      }
    },
    {
      "cell_type": "code",
      "source": [
        "from imblearn.under_sampling import NeighbourhoodCleaningRule"
      ],
      "metadata": {
        "id": "tuac_cXC4Xul"
      },
      "execution_count": 71,
      "outputs": []
    },
    {
      "cell_type": "code",
      "source": [
        "ncr = NeighbourhoodCleaningRule()\n",
        "X_res, y_res = ncr.fit_resample(X, y)\n",
        "print('Resampled dataset shape %s' % Counter(y_res))"
      ],
      "metadata": {
        "colab": {
          "base_uri": "https://localhost:8080/"
        },
        "id": "epRsP4ex4XxE",
        "outputId": "936ac3f1-b40a-4ac2-d08e-610ebaa61a6b"
      },
      "execution_count": 72,
      "outputs": [
        {
          "output_type": "stream",
          "name": "stdout",
          "text": [
            "Resampled dataset shape Counter({1: 877, 0: 100})\n"
          ]
        }
      ]
    },
    {
      "cell_type": "markdown",
      "source": [
        "InstanceHardnessThreshold"
      ],
      "metadata": {
        "id": "LWoiLdgg4vUr"
      }
    },
    {
      "cell_type": "code",
      "source": [
        "from imblearn.under_sampling import InstanceHardnessThreshold\n"
      ],
      "metadata": {
        "id": "DyzKcfWg4Xze"
      },
      "execution_count": 73,
      "outputs": []
    },
    {
      "cell_type": "code",
      "source": [
        "iht = InstanceHardnessThreshold(random_state=42)\n",
        "X_res, y_res = iht.fit_resample(X, y)\n",
        "print('Resampled dataset shape %s' % Counter(y_res))  "
      ],
      "metadata": {
        "colab": {
          "base_uri": "https://localhost:8080/"
        },
        "id": "GjYoVjMi4X3J",
        "outputId": "37bb12d6-26d4-4e9d-e123-c232dfbbe7e9"
      },
      "execution_count": 74,
      "outputs": [
        {
          "output_type": "stream",
          "name": "stdout",
          "text": [
            "Resampled dataset shape Counter({1: 580, 0: 100})\n"
          ]
        }
      ]
    },
    {
      "cell_type": "markdown",
      "source": [
        "SMOTEENN"
      ],
      "metadata": {
        "id": "-k995RyG48rw"
      }
    },
    {
      "cell_type": "code",
      "source": [
        "from imblearn.combine import SMOTEENN "
      ],
      "metadata": {
        "id": "HuW7855L5q4V"
      },
      "execution_count": 75,
      "outputs": []
    },
    {
      "cell_type": "code",
      "source": [
        "sme = SMOTEENN(random_state=42)\n",
        "X_res, y_res = sme.fit_resample(X, y)\n",
        "print('Resampled dataset shape %s' % Counter(y_res))\n"
      ],
      "metadata": {
        "colab": {
          "base_uri": "https://localhost:8080/"
        },
        "id": "_xHGNJ-H5q7w",
        "outputId": "521ce0f2-76bc-4bc9-af4f-03a0d7d27bff"
      },
      "execution_count": 76,
      "outputs": [
        {
          "output_type": "stream",
          "name": "stdout",
          "text": [
            "Resampled dataset shape Counter({0: 900, 1: 881})\n"
          ]
        }
      ]
    },
    {
      "cell_type": "code",
      "source": [
        ""
      ],
      "metadata": {
        "id": "bB-B0fwH563q"
      },
      "execution_count": null,
      "outputs": []
    },
    {
      "cell_type": "markdown",
      "source": [
        "SMOTETomek"
      ],
      "metadata": {
        "id": "8HPdyBrG57LD"
      }
    },
    {
      "cell_type": "code",
      "source": [
        "from imblearn.combine import SMOTETomek \n"
      ],
      "metadata": {
        "id": "iYYpe5uN5rWr"
      },
      "execution_count": 77,
      "outputs": []
    },
    {
      "cell_type": "code",
      "source": [
        "smt = SMOTETomek(random_state=42)\n",
        "X_res, y_res = smt.fit_resample(X, y)\n",
        "print('Resampled dataset shape %s' % Counter(y_res))"
      ],
      "metadata": {
        "colab": {
          "base_uri": "https://localhost:8080/"
        },
        "id": "OpRUU0Qt6IYt",
        "outputId": "1e788c63-3258-48d1-9d34-4007ca416657"
      },
      "execution_count": 78,
      "outputs": [
        {
          "output_type": "stream",
          "name": "stdout",
          "text": [
            "Resampled dataset shape Counter({0: 900, 1: 900})\n"
          ]
        }
      ]
    },
    {
      "cell_type": "code",
      "source": [
        ""
      ],
      "metadata": {
        "id": "GZKJKMYb6IjN"
      },
      "execution_count": null,
      "outputs": []
    },
    {
      "cell_type": "markdown",
      "source": [
        "Категориальные признаки - метка"
      ],
      "metadata": {
        "id": "JLm6FiiG6UXR"
      }
    },
    {
      "cell_type": "code",
      "source": [
        "y_cat = X_all_pd['Column № 20']"
      ],
      "metadata": {
        "id": "orv9lSlA4PtU"
      },
      "execution_count": 98,
      "outputs": []
    },
    {
      "cell_type": "code",
      "source": [
        "X_all_not_cat = X_all_pd.drop(columns = ['Column № 20'])"
      ],
      "metadata": {
        "id": "T62jVUIS4P6x"
      },
      "execution_count": 99,
      "outputs": []
    },
    {
      "cell_type": "code",
      "source": [
        "X_all_not_cat.shape"
      ],
      "metadata": {
        "colab": {
          "base_uri": "https://localhost:8080/"
        },
        "id": "kqXRdcwu4mNs",
        "outputId": "b919a0c2-bedd-4f8a-e35f-96f075168e04"
      },
      "execution_count": 100,
      "outputs": [
        {
          "output_type": "execute_result",
          "data": {
            "text/plain": [
              "(1000, 20)"
            ]
          },
          "metadata": {},
          "execution_count": 100
        }
      ]
    },
    {
      "cell_type": "code",
      "source": [
        "ros = SMOTENC(random_state=42, categorical_features=[18,19])"
      ],
      "metadata": {
        "id": "wEl9q-eF4jWT"
      },
      "execution_count": 101,
      "outputs": []
    },
    {
      "cell_type": "code",
      "source": [
        "X_res, y_res = ros.fit_resample(X_all_not_cat, y_cat)"
      ],
      "metadata": {
        "id": "kDrfb6BB4sYK"
      },
      "execution_count": 102,
      "outputs": []
    },
    {
      "cell_type": "code",
      "source": [
        "print('Resampled dataset shape %s' % Counter(y_res))"
      ],
      "metadata": {
        "colab": {
          "base_uri": "https://localhost:8080/"
        },
        "id": "z_YPuK6l0vYv",
        "outputId": "c5c48e77-4dd1-4e84-b37b-fd7a2bd7200a"
      },
      "execution_count": 103,
      "outputs": [
        {
          "output_type": "stream",
          "name": "stdout",
          "text": [
            "Resampled dataset shape Counter({'A': 400, 'B': 400, 'C': 400, 'D': 400})\n"
          ]
        }
      ]
    },
    {
      "cell_type": "code",
      "source": [
        "from collections import Counter\n",
        "from sklearn.datasets import make_classification\n",
        "from imblearn.under_sampling import ClusterCentroids "
      ],
      "metadata": {
        "id": "c0--NJ3Vyr6H"
      },
      "execution_count": null,
      "outputs": []
    },
    {
      "cell_type": "code",
      "source": [
        "X, y = make_classification(n_classes=2, class_sep=2,\n",
        "weights=[0.1, 0.9], n_informative=3, n_redundant=1, flip_y=0,\n",
        "n_features=20, n_clusters_per_class=1, n_samples=1000, random_state=10)\n",
        "print('Original dataset shape %s' % Counter(y))\n",
        "cc = ClusterCentroids(random_state=42)\n",
        "X_res, y_res = cc.fit_resample(X, y)\n",
        "print('Resampled dataset shape %s' % Counter(y_res))"
      ],
      "metadata": {
        "colab": {
          "base_uri": "https://localhost:8080/"
        },
        "id": "HAn3AtqV78MD",
        "outputId": "e4f1287a-284b-4dff-8c2a-b2a1d807ca87"
      },
      "execution_count": null,
      "outputs": [
        {
          "output_type": "stream",
          "name": "stdout",
          "text": [
            "Original dataset shape Counter({1: 900, 0: 100})\n",
            "Resampled dataset shape Counter({0: 100, 1: 100})\n"
          ]
        }
      ]
    },
    {
      "cell_type": "code",
      "source": [
        ""
      ],
      "metadata": {
        "id": "666v4m628Ax_"
      },
      "execution_count": null,
      "outputs": []
    }
  ]
}